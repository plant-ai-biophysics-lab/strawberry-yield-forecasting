{
 "cells": [
  {
   "cell_type": "markdown",
   "metadata": {
    "id": "EdqZKcf_9E4O"
   },
   "source": [
    "# Dataset"
   ]
  },
  {
   "cell_type": "code",
   "execution_count": 1,
   "metadata": {
    "executionInfo": {
     "elapsed": 146,
     "status": "ok",
     "timestamp": 1732657634797,
     "user": {
      "displayName": "Horacio Contreras",
      "userId": "14308868270325081714"
     },
     "user_tz": 480
    },
    "id": "Mki8veVi9E4P"
   },
   "outputs": [],
   "source": [
    "import sys\n",
    "\n",
    "# add the parent directory to the path so we can import the module\n",
    "sys.path.append(\"/data2/eranario/scratch/strawberry-yield-forecasting\")"
   ]
  },
  {
   "cell_type": "code",
   "execution_count": 2,
   "metadata": {
    "executionInfo": {
     "elapsed": 135,
     "status": "ok",
     "timestamp": 1732657636307,
     "user": {
      "displayName": "Horacio Contreras",
      "userId": "14308868270325081714"
     },
     "user_tz": 480
    },
    "id": "HKK5FaM_9E4Q"
   },
   "outputs": [],
   "source": [
    "import torch\n",
    "from src.dataset import StrawberryDataset"
   ]
  },
  {
   "cell_type": "code",
   "execution_count": null,
   "metadata": {},
   "outputs": [],
   "source": [
    "# create random seed\n",
    "torch.manual_seed(456)"
   ]
  },
  {
   "cell_type": "code",
   "execution_count": 4,
   "metadata": {
    "executionInfo": {
     "elapsed": 196,
     "status": "ok",
     "timestamp": 1732657638026,
     "user": {
      "displayName": "Horacio Contreras",
      "userId": "14308868270325081714"
     },
     "user_tz": 480
    },
    "id": "D-F9ILLl9E4Q"
   },
   "outputs": [],
   "source": [
    "# device is cuda else cpu\n",
    "device = \"cuda\" if torch.cuda.is_available() else \"cpu\""
   ]
  },
  {
   "cell_type": "code",
   "execution_count": 5,
   "metadata": {
    "executionInfo": {
     "elapsed": 280,
     "status": "ok",
     "timestamp": 1732657639925,
     "user": {
      "displayName": "Horacio Contreras",
      "userId": "14308868270325081714"
     },
     "user_tz": 480
    },
    "id": "Q5jW9jK59E4Q"
   },
   "outputs": [],
   "source": [
    "path_to_counts = \"/data2/eranario/data/Strawberry-Yield-Forecasting/2022_stitched/\"\n",
    "path_to_weights = \"/data2/eranario/data/Strawberry-Yield-Forecasting/weights/weights.csv\"\n",
    "n_seq = 5\n",
    "seq_l = 3\n",
    "n_folds = 2\n",
    "k_fold = 2\n",
    "use_weights = False\n",
    "skip = [] # skip must be a list\n",
    "time_int = False\n",
    "dataset = StrawberryDataset(path_to_counts, path_to_weights, k_fold=k_fold,\n",
    "                            n_seq=n_seq, seq_l=seq_l, n_folds=n_folds, use_weights=use_weights, \n",
    "                            skip=skip, time_int=time_int)"
   ]
  },
  {
   "cell_type": "code",
   "execution_count": null,
   "metadata": {
    "colab": {
     "base_uri": "https://localhost:8080/"
    },
    "executionInfo": {
     "elapsed": 190,
     "status": "ok",
     "timestamp": 1732657641912,
     "user": {
      "displayName": "Horacio Contreras",
      "userId": "14308868270325081714"
     },
     "user_tz": 480
    },
    "id": "aoJ4kvIS9E4R",
    "outputId": "2694f269-145a-488b-daed-968df64886cd"
   },
   "outputs": [],
   "source": [
    "# Check date parsing\n",
    "months, days, years = dataset.months, dataset.days, dataset.years\n",
    "print(\"\\nParsed Dates:\")\n",
    "print(\"Months:\", months)\n",
    "print(\"Days:\", days)\n",
    "print(\"Years:\", years)\n",
    "\n",
    "\n",
    "X_data, y_data = dataset.fnX, dataset.fny\n",
    "print(\"\\nOrganized Data Shapes:\")\n",
    "print(\"X_data shape:\", X_data.shape)  # Expected: (num_samples, num_features)\n",
    "print(\"y_data shape:\", y_data.shape)  # Expected: (num_samples, num_labels)\n",
    "\n",
    "# Display sample data from X and y\n",
    "print(\"\\nSample X_data:\", X_data[0][:10])  # Display first 10 features of first sample\n",
    "print(\"Sample y_data:\", y_data[0])         # Display first sample of y_data\n",
    "\n",
    "print(\"\\nDataset length (number of samples):\", len(dataset))\n",
    "\n",
    "X_sample, y_sample = dataset[0]\n",
    "print(\"\\nSample from __getitem__:\")\n",
    "print(\"X_sample:\", X_sample[:10])  # Display first 10 features of X_sample\n",
    "print(\"y_sample:\", y_sample)"
   ]
  },
  {
   "cell_type": "markdown",
   "metadata": {
    "id": "ettgjNLp9E4R"
   },
   "source": [
    "# Dataloader"
   ]
  },
  {
   "cell_type": "code",
   "execution_count": 7,
   "metadata": {
    "executionInfo": {
     "elapsed": 140,
     "status": "ok",
     "timestamp": 1732657646555,
     "user": {
      "displayName": "Horacio Contreras",
      "userId": "14308868270325081714"
     },
     "user_tz": 480
    },
    "id": "I3ctz-PC9E4R"
   },
   "outputs": [],
   "source": [
    "import torch\n",
    "from torch.utils.data import DataLoader"
   ]
  },
  {
   "cell_type": "code",
   "execution_count": 8,
   "metadata": {
    "executionInfo": {
     "elapsed": 183,
     "status": "ok",
     "timestamp": 1732657648454,
     "user": {
      "displayName": "Horacio Contreras",
      "userId": "14308868270325081714"
     },
     "user_tz": 480
    },
    "id": "IMVUZo909E4S"
   },
   "outputs": [],
   "source": [
    "train_size = int(0.75 * len(dataset))\n",
    "val_size = len(dataset) - train_size\n",
    "train_dataset, val_dataset = torch.utils.data.random_split(dataset, [train_size, val_size])\n",
    "\n",
    "# Create indices\n",
    "train_indices = list(range(train_size))\n",
    "val_indices = list(range(train_size, len(dataset)))\n",
    "\n",
    "# Create subsets\n",
    "train_dataset = torch.utils.data.Subset(dataset, train_indices)\n",
    "val_dataset = torch.utils.data.Subset(dataset, val_indices)\n",
    "\n",
    "train_loader = DataLoader(train_dataset, batch_size=5, shuffle=False)\n",
    "val_loader = DataLoader(val_dataset, batch_size=5, shuffle=False)"
   ]
  },
  {
   "cell_type": "code",
   "execution_count": null,
   "metadata": {
    "colab": {
     "base_uri": "https://localhost:8080/"
    },
    "executionInfo": {
     "elapsed": 146,
     "status": "ok",
     "timestamp": 1732657650720,
     "user": {
      "displayName": "Horacio Contreras",
      "userId": "14308868270325081714"
     },
     "user_tz": 480
    },
    "id": "cPKqgT3x9E4S",
    "outputId": "c87262b9-b2d5-4b17-feaf-5077362dd939"
   },
   "outputs": [],
   "source": [
    "len(train_loader), len(val_loader)"
   ]
  },
  {
   "cell_type": "code",
   "execution_count": null,
   "metadata": {
    "colab": {
     "base_uri": "https://localhost:8080/"
    },
    "executionInfo": {
     "elapsed": 346,
     "status": "ok",
     "timestamp": 1732657652635,
     "user": {
      "displayName": "Horacio Contreras",
      "userId": "14308868270325081714"
     },
     "user_tz": 480
    },
    "id": "ta7L3xiR9E4S",
    "outputId": "45b1c9c6-7747-4a4a-f702-3838d0c6c012"
   },
   "outputs": [],
   "source": [
    "# try to get a batch of data\n",
    "for i, (X_batch, y_batch) in enumerate(train_loader):\n",
    "    print(\"\\nBatch\", i)\n",
    "    print(\"X_batch shape:\", X_batch.shape)\n",
    "    print(\"y_batch shape:\", y_batch.shape)\n",
    "    print(\"X_batch:\", X_batch) # (batch_size, n_seq, num_classes)\n",
    "    print(\"y_batch:\", y_batch) # (batch_size, 1)\n",
    "    break"
   ]
  },
  {
   "cell_type": "markdown",
   "metadata": {
    "id": "d8F0fOeC9E4S"
   },
   "source": [
    "# Training"
   ]
  },
  {
   "cell_type": "code",
   "execution_count": 11,
   "metadata": {
    "executionInfo": {
     "elapsed": 153,
     "status": "ok",
     "timestamp": 1732658816063,
     "user": {
      "displayName": "Horacio Contreras",
      "userId": "14308868270325081714"
     },
     "user_tz": 480
    },
    "id": "f__fxALr9E4T"
   },
   "outputs": [],
   "source": [
    "import torch\n",
    "import matplotlib.pyplot as plt\n",
    "\n",
    "from torch.nn import MSELoss\n",
    "from torch.optim import Adam\n",
    "from torch import nn\n",
    "from src.model import LSTMTransformerMasked"
   ]
  },
  {
   "cell_type": "code",
   "execution_count": 12,
   "metadata": {
    "executionInfo": {
     "elapsed": 186,
     "status": "ok",
     "timestamp": 1732658819349,
     "user": {
      "displayName": "Horacio Contreras",
      "userId": "14308868270325081714"
     },
     "user_tz": 480
    },
    "id": "qOMXMDGL9E4T"
   },
   "outputs": [],
   "source": [
    "def train_transformer_decoder(model, train_loader, val_loader, epochs, lr):\n",
    "    device = torch.device(\"cuda\" if torch.cuda.is_available() else \"cpu\")\n",
    "    model = model.to(device)\n",
    "    criterion = MSELoss()\n",
    "    optimizer = Adam(model.parameters(), lr=lr)\n",
    "\n",
    "    best_val_loss = float(\"inf\")\n",
    "    best_model = None\n",
    "\n",
    "    train_losses = []  # To store train loss for each epoch\n",
    "    val_losses = []    # To store validation loss for each epoch\n",
    "\n",
    "    for epoch in range(epochs):\n",
    "        # Training phase\n",
    "        model.train()\n",
    "        train_loss = 0.0\n",
    "        for X_batch, y_batch in train_loader:\n",
    "            X_batch, y_batch = X_batch.to(device), y_batch.to(device)\n",
    "\n",
    "            optimizer.zero_grad()\n",
    "            outputs = model(X_batch)\n",
    "            loss = criterion(outputs, y_batch)\n",
    "            loss.backward()\n",
    "            optimizer.step()\n",
    "\n",
    "            train_loss += loss.item()\n",
    "\n",
    "        train_loss /= len(train_loader)\n",
    "        train_losses.append(train_loss)  # Append to train losses\n",
    "\n",
    "        # Validation phase\n",
    "        model.eval()\n",
    "        val_loss = 0.0\n",
    "        with torch.no_grad():\n",
    "            for X_batch, y_batch in val_loader:\n",
    "                X_batch, y_batch = X_batch.to(device), y_batch.to(device)\n",
    "                outputs = model(X_batch)\n",
    "                loss = criterion(outputs, y_batch)\n",
    "                val_loss += loss.item()\n",
    "\n",
    "        val_loss /= len(val_loader)\n",
    "        val_losses.append(val_loss)  # Append to validation losses\n",
    "\n",
    "        print(f\"Epoch {epoch+1}/{epochs}, Train Loss: {train_loss:.4f}, Val Loss: {val_loss:.4f}\")\n",
    "\n",
    "        # Save best model\n",
    "        if val_loss < best_val_loss:\n",
    "            best_val_loss = val_loss\n",
    "            best_model = model.state_dict()\n",
    "\n",
    "    # Load best model before returning\n",
    "    model.load_state_dict(best_model)\n",
    "\n",
    "    # Plot training and validation loss curves\n",
    "    plt.figure(figsize=(8, 6))\n",
    "    plt.plot(range(1, epochs + 1), train_losses, label=\"Train Loss\")\n",
    "    plt.plot(range(1, epochs + 1), val_losses, label=\"Validation Loss\", linestyle=\"--\")\n",
    "    plt.xlabel(\"Epochs\")\n",
    "    plt.ylabel(\"Loss\")\n",
    "    plt.title(\"Train vs Validation Loss Curve\")\n",
    "    plt.legend()\n",
    "    plt.tight_layout()\n",
    "    plt.show()\n",
    "\n",
    "    return model"
   ]
  },
  {
   "cell_type": "code",
   "execution_count": 13,
   "metadata": {},
   "outputs": [],
   "source": [
    "def init_weights(m):\n",
    "    if isinstance(m, nn.Linear) or isinstance(m, nn.Conv2d):\n",
    "        nn.init.xavier_uniform_(m.weight)\n",
    "        if m.bias is not None:\n",
    "            nn.init.zeros_(m.bias)\n",
    "    elif isinstance(m, nn.LSTM):\n",
    "        for param in m.parameters():\n",
    "            if param.dim() > 1:\n",
    "                nn.init.xavier_uniform_(param)"
   ]
  },
  {
   "cell_type": "code",
   "execution_count": null,
   "metadata": {
    "executionInfo": {
     "elapsed": 171,
     "status": "ok",
     "timestamp": 1732661393307,
     "user": {
      "displayName": "Horacio Contreras",
      "userId": "14308868270325081714"
     },
     "user_tz": 480
    },
    "id": "4d_raIgk9E4T"
   },
   "outputs": [],
   "source": [
    "input_dim = (dataset.samples_dim[2]+1) if time_int else dataset.samples_dim[2]\n",
    "seq_len = dataset.seq_l\n",
    "epochs = 50\n",
    "learning_rate = 0.0001\n",
    "\n",
    "model = LSTMTransformerMasked(input_dim=input_dim, lstm_hidden_dim=32, lstm_layers=2, transformer_hidden_size=64, num_transformer_layers=2, num_heads=2, dropout=0.5, use_time_emb=True)\n",
    "model.apply(init_weights)"
   ]
  },
  {
   "cell_type": "code",
   "execution_count": null,
   "metadata": {
    "colab": {
     "base_uri": "https://localhost:8080/",
     "height": 1000
    },
    "executionInfo": {
     "elapsed": 147230,
     "status": "ok",
     "timestamp": 1732661542674,
     "user": {
      "displayName": "Horacio Contreras",
      "userId": "14308868270325081714"
     },
     "user_tz": 480
    },
    "id": "63JNvd5h9E4T",
    "outputId": "6e41243b-b91f-4288-c3f0-a9dcd6996b2c"
   },
   "outputs": [],
   "source": [
    "trained_model = train_transformer_decoder(model, train_loader, val_loader, epochs, learning_rate)"
   ]
  },
  {
   "cell_type": "markdown",
   "metadata": {
    "id": "5cR9Mrkk9E4T"
   },
   "source": [
    "# Test"
   ]
  },
  {
   "cell_type": "code",
   "execution_count": 16,
   "metadata": {
    "executionInfo": {
     "elapsed": 136,
     "status": "ok",
     "timestamp": 1732661571716,
     "user": {
      "displayName": "Horacio Contreras",
      "userId": "14308868270325081714"
     },
     "user_tz": 480
    },
    "id": "pgl1QULy9E4T"
   },
   "outputs": [],
   "source": [
    "import numpy as np"
   ]
  },
  {
   "cell_type": "code",
   "execution_count": 17,
   "metadata": {
    "executionInfo": {
     "elapsed": 190,
     "status": "ok",
     "timestamp": 1732661581309,
     "user": {
      "displayName": "Horacio Contreras",
      "userId": "14308868270325081714"
     },
     "user_tz": 480
    },
    "id": "Kej3wSCN9E4T"
   },
   "outputs": [],
   "source": [
    "def evaluate_test_set(model, test_loader, device):\n",
    "    model.eval()  # Set model to evaluation mode\n",
    "    predictions = []\n",
    "    true_values = []\n",
    "    \n",
    "    with torch.no_grad():  # Disable gradient computation for inference\n",
    "        for X_batch, y_batch in test_loader:\n",
    "            X_batch, y_batch = X_batch.to(device), y_batch.to(device)\n",
    "            outputs = model(X_batch)\n",
    "            predictions.append(outputs.cpu().numpy())  # Store predictions\n",
    "            true_values.append(y_batch.cpu().numpy())  # Store true labels\n",
    "    \n",
    "    # Concatenate the results into single arrays\n",
    "    predictions = np.concatenate(predictions)\n",
    "    true_values = np.concatenate(true_values)\n",
    "    \n",
    "    return predictions, true_values\n"
   ]
  },
  {
   "cell_type": "code",
   "execution_count": null,
   "metadata": {
    "colab": {
     "base_uri": "https://localhost:8080/"
    },
    "executionInfo": {
     "elapsed": 143,
     "status": "ok",
     "timestamp": 1732661584595,
     "user": {
      "displayName": "Horacio Contreras",
      "userId": "14308868270325081714"
     },
     "user_tz": 480
    },
    "id": "KDB9uyjO9E4T",
    "outputId": "1cf61a60-51fd-4912-8b38-a2a96d45e04c"
   },
   "outputs": [],
   "source": [
    "dataset.mode = 'test'\n",
    "\n",
    "test_loader = DataLoader(dataset, batch_size=1, shuffle=False)\n",
    "\n",
    "# check first batch\n",
    "X_batch, y_batch = next(iter(test_loader))\n",
    "print(\"\\nSample from test_loader:\")\n",
    "print(\"X_batch shape:\", X_batch.shape)\n",
    "print(\"y_batch shape:\", y_batch.shape)\n",
    "print(\"X_batch:\", X_batch)"
   ]
  },
  {
   "cell_type": "code",
   "execution_count": 19,
   "metadata": {
    "executionInfo": {
     "elapsed": 754,
     "status": "ok",
     "timestamp": 1732661588435,
     "user": {
      "displayName": "Horacio Contreras",
      "userId": "14308868270325081714"
     },
     "user_tz": 480
    },
    "id": "EemSROKo9E4U"
   },
   "outputs": [],
   "source": [
    "predictions, true_values = evaluate_test_set(trained_model, test_loader, device)"
   ]
  },
  {
   "cell_type": "code",
   "execution_count": null,
   "metadata": {
    "colab": {
     "base_uri": "https://localhost:8080/",
     "height": 505
    },
    "executionInfo": {
     "elapsed": 569,
     "status": "ok",
     "timestamp": 1732661589848,
     "user": {
      "displayName": "Horacio Contreras",
      "userId": "14308868270325081714"
     },
     "user_tz": 480
    },
    "id": "bNC1YgVa9E4U",
    "outputId": "24abfbe2-6a63-48cc-a3e2-926cb7821d59"
   },
   "outputs": [],
   "source": [
    "from sklearn.metrics import mean_squared_error\n",
    "from scipy.stats import linregress\n",
    "\n",
    "# change true and predicted from (495, 1) to (5. 99)\n",
    "true_values_reshaped = true_values.reshape(n_seq, -1)\n",
    "predictions_reshaped = predictions.reshape(n_seq, -1)\n",
    "\n",
    "scatter_marker = ['.','d','*','x','+','o','.','x','d','*']\n",
    "scatter_color = ['black','gray','orange','steelblue','darkviolet','blue','pink','blue','pink','coral']\n",
    "\n",
    "time_folds = [[4, 5, 6, 7, 8], [11, 12, 13, 14, 15]]\n",
    "\n",
    "plt.figure()\n",
    "r2_list = []\n",
    "rmse_list = []\n",
    "\n",
    "for time in range(n_seq):\n",
    "    slope, intercept, r_value, p_value, std_err = linregress(true_values_reshaped[time, :], predictions_reshaped[time, :])\n",
    "    r2 = r_value ** 2\n",
    "    rmse = np.sqrt(mean_squared_error(true_values_reshaped[time], predictions_reshaped[time]))\n",
    "    \n",
    "    label = str(time_folds[k_fold-1][time])\n",
    "    plt.scatter(true_values_reshaped[time, :], predictions_reshaped[time, :], marker = scatter_marker[time], color=scatter_color[time], label = f'$t_{{{label}}}$, $R^2$= {r2:.2f}, RMSE= {rmse:.2f}')\n",
    "    r2_list.append(r2)\n",
    "    rmse_list.append(rmse)\n",
    "\n",
    "print(f\"R^2: {np.mean(r2_list):.4f}\", f\"RMSE: {np.mean(rmse_list):.4f}\")\n",
    "plt.xlabel('True yield (Norm.)')\n",
    "plt.ylabel('Predicted yield (Norm.)')\n",
    "plt.legend()\n",
    "plt.tight_layout()\n",
    "plt.show()"
   ]
  },
  {
   "cell_type": "code",
   "execution_count": null,
   "metadata": {},
   "outputs": [],
   "source": [
    "# Access the scaler\n",
    "y_scaler = dataset.y_scaler\n",
    "\n",
    "# Determine the number of expected features\n",
    "expected_features = y_scaler.min_.shape[0]\n",
    "\n",
    "# Pad true values and predictions\n",
    "true_values_padded = np.zeros((true_values.shape[0], expected_features))\n",
    "predictions_padded = np.zeros((predictions.shape[0], expected_features))\n",
    "\n",
    "# Assign the actual values to the appropriate column (e.g., first column)\n",
    "true_values_padded[:, 0] = true_values.flatten()\n",
    "predictions_padded[:, 0] = predictions.flatten()\n",
    "\n",
    "# Unnormalize and extract the relevant column\n",
    "true_values_unnormalized = y_scaler.inverse_transform(true_values_padded)[:, 0]\n",
    "predictions_unnormalized = y_scaler.inverse_transform(predictions_padded)[:, 0]\n",
    "\n",
    "# Reshape for evaluation\n",
    "true_values_reshaped_final = true_values_unnormalized.reshape(n_seq, -1)\n",
    "predictions_reshaped_final = predictions_unnormalized.reshape(n_seq, -1)\n",
    "\n",
    "scatter_marker = ['.','d','*','x','+','o','.','x','d','*']\n",
    "scatter_color = ['black','gray','orange','steelblue','darkviolet','blue','pink','blue','pink','coral']\n",
    "\n",
    "time_folds = [[4, 5, 6, 7, 8], [11, 12, 13, 14, 15]]\n",
    "\n",
    "plt.figure()\n",
    "r2_list = []\n",
    "rmse_list = []\n",
    "\n",
    "for time in range(n_seq):\n",
    "    slope, intercept, r_value, p_value, std_err = linregress(\n",
    "        true_values_reshaped_final[time, :], predictions_reshaped_final[time, :]\n",
    "    )\n",
    "    r2 = r_value ** 2\n",
    "    rmse = np.sqrt(mean_squared_error(\n",
    "        true_values_reshaped_final[time], predictions_reshaped_final[time]\n",
    "    ))\n",
    "\n",
    "    label = str(time_folds[k_fold-1][time])\n",
    "    plt.scatter(\n",
    "        true_values_reshaped_final[time, :], predictions_reshaped_final[time, :],\n",
    "        marker=scatter_marker[time], color=scatter_color[time],\n",
    "        label=f'$t_{{{label}}}$, $R^2$= {r2:.2f}, RMSE= {rmse:.2f}'\n",
    "    )\n",
    "    r2_list.append(r2)\n",
    "    rmse_list.append(rmse)\n",
    "\n",
    "print(f\"R^2: {np.mean(r2_list):.4f}\", f\"RMSE: {np.mean(rmse_list):.4f}\")\n",
    "plt.xlabel('True yield')\n",
    "plt.ylabel('Predicted yield')\n",
    "plt.legend()\n",
    "plt.tight_layout()\n",
    "plt.show()\n"
   ]
  }
 ],
 "metadata": {
  "colab": {
   "provenance": []
  },
  "kernelspec": {
   "display_name": "lstm",
   "language": "python",
   "name": "python3"
  },
  "language_info": {
   "codemirror_mode": {
    "name": "ipython",
    "version": 3
   },
   "file_extension": ".py",
   "mimetype": "text/x-python",
   "name": "python",
   "nbconvert_exporter": "python",
   "pygments_lexer": "ipython3",
   "version": "3.10.15"
  }
 },
 "nbformat": 4,
 "nbformat_minor": 0
}
